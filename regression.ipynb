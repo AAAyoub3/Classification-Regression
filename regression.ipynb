{
 "cells": [
  {
   "cell_type": "markdown",
   "metadata": {},
   "source": [
    "# Task 1: Importing & Splitting the Dataset"
   ]
  },
  {
   "cell_type": "code",
   "execution_count": 66,
   "metadata": {},
   "outputs": [],
   "source": [
    "import pandas as pd\n",
    "\n",
    "# Load the dataset\n",
    "data = pd.read_csv('California_Houses.csv')"
   ]
  },
  {
   "cell_type": "code",
   "execution_count": 67,
   "metadata": {},
   "outputs": [],
   "source": [
    "from sklearn.model_selection import train_test_split\n",
    "\n",
    "# Split the dataset randomly into training (70%), validation (15%), and testing (15%)\n",
    "train_data, temp_data = train_test_split(data, test_size=0.3, random_state=42)\n",
    "valid_data, test_data = train_test_split(temp_data, test_size=0.5, random_state=42)\n",
    "\n",
    "# Define your features (x) and target (y) for each set\n",
    "x_train = train_data.drop(columns=['Median_House_Value'])\n",
    "y_train = train_data['Median_House_Value']\n",
    "\n",
    "x_valid = valid_data.drop(columns=['Median_House_Value'])\n",
    "y_valid = valid_data['Median_House_Value']\n",
    "\n",
    "x_test = test_data.drop(columns=['Median_House_Value'])\n",
    "y_test = test_data['Median_House_Value']"
   ]
  },
  {
   "cell_type": "markdown",
   "metadata": {},
   "source": [
    "# Task 2: Applying linear, lasso and ridge regression"
   ]
  },
  {
   "cell_type": "code",
   "execution_count": 84,
   "metadata": {},
   "outputs": [],
   "source": [
    "from sklearn.linear_model import LinearRegression,Ridge,Lasso\n",
    "\n",
    "linear_Reg = LinearRegression()\n",
    "Lasso_Reg = Lasso(alpha=1.0,max_iter=10000000)\n",
    "Ridge_Reg = Ridge(alpha=1.0)\n",
    "\n",
    "# Train the model on the training data\n",
    "linear_Reg.fit(x_train, y_train)\n",
    "Lasso_Reg.fit(x_train, y_train)\n",
    "Ridge_Reg.fit(x_train, y_train)\n",
    "\n",
    "# Predicting \n",
    "y_pred_linear = linear_Reg.predict(x_valid)\n",
    "y_pred_lasso = Lasso_Reg.predict(x_valid)\n",
    "y_pred_ridge = Ridge_Reg.predict(x_valid)"
   ]
  },
  {
   "cell_type": "markdown",
   "metadata": {},
   "source": [
    "# Task 3: Reporting Mean Square Error and Mean Absolute Errors"
   ]
  },
  {
   "cell_type": "code",
   "execution_count": 86,
   "metadata": {},
   "outputs": [
    {
     "name": "stdout",
     "output_type": "stream",
     "text": [
      "MAE for Linear Regression : 50790.060271051945\n",
      "MSE for Linear Regression : 4907211997.374879\n",
      "==============================================\n",
      "MAE for Lasso Regression : 50790.27347325691\n",
      "MSE for Lasso Regression : 4907219718.486601\n",
      "==============================================\n",
      "MAE for Ridge Regression : 50790.607314504\n",
      "MSE for Ridge Regression : 4907226928.247801\n"
     ]
    }
   ],
   "source": [
    "from sklearn.metrics import mean_absolute_error,mean_squared_error\n",
    "\n",
    "print(\"MAE for Linear Regression :\",mean_absolute_error(y_valid,y_pred_linear))\n",
    "print(\"MSE for Linear Regression :\",mean_squared_error(y_valid,y_pred_linear))\n",
    "print(\"==============================================\")\n",
    "print(\"MAE for Lasso Regression :\",mean_absolute_error(y_valid,y_pred_lasso))\n",
    "print(\"MSE for Lasso Regression :\",mean_squared_error(y_valid,y_pred_lasso))\n",
    "print(\"==============================================\")\n",
    "print(\"MAE for Ridge Regression :\",mean_absolute_error(y_valid,y_pred_ridge))\n",
    "print(\"MSE for Ridge Regression :\",mean_squared_error(y_valid,y_pred_ridge))\n"
   ]
  }
 ],
 "metadata": {
  "kernelspec": {
   "display_name": "Python 3",
   "language": "python",
   "name": "python3"
  },
  "language_info": {
   "codemirror_mode": {
    "name": "ipython",
    "version": 3
   },
   "file_extension": ".py",
   "mimetype": "text/x-python",
   "name": "python",
   "nbconvert_exporter": "python",
   "pygments_lexer": "ipython3",
   "version": "3.12.0"
  }
 },
 "nbformat": 4,
 "nbformat_minor": 2
}

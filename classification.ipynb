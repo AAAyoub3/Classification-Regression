{
 "cells": [
  {
   "cell_type": "markdown",
   "metadata": {},
   "source": [
    "# Task 1: Balancing the Dataset"
   ]
  },
  {
   "cell_type": "code",
   "execution_count": 3,
   "metadata": {},
   "outputs": [
    {
     "name": "stdout",
     "output_type": "stream",
     "text": [
      "Number of gamma samples is 6688\n",
      "Number of hadron samples is 6688\n",
      "Number of balanced samples is 13376\n"
     ]
    }
   ],
   "source": [
    "import pandas as pd\n",
    "\n",
    "# Load the dataset\n",
    "data = pd.read_csv('magic04.data')\n",
    "\n",
    "# Rename the last column \"column 10\" as 'class'\n",
    "data.rename(columns={data.columns[10]: 'class'}, inplace=True)\n",
    "\n",
    "# Calculate the number of samples in each class\n",
    "# gamma -> signal\n",
    "# hadrons -> background\n",
    "num_gamma = (data['class'] == 'g').sum()\n",
    "num_hadron = (data['class'] == 'h').sum()\n",
    "\n",
    "# Take random samples for each class (gamma / hadron) with the number of samples = number of hadron (as it's lower than number of samples of gamma, so we took the minimum)\n",
    "data_gamma = data[data['class'] == 'g'].sample(n=num_hadron, random_state=42)\n",
    "data_hadron = data[data['class'] == 'h'].sample(n=num_hadron, random_state=42)\n",
    "\n",
    "# Combine the balanced datasets\n",
    "balanced_data = pd.concat([data_gamma, data_hadron])\n",
    "\n",
    "# Now, balanced_data contains an equal number of \"gamma\" and \"hadron\" samples\n",
    "print(\"Number of gamma samples is\",len(data_gamma))\n",
    "print(\"Number of hadron samples is\",len(data_hadron))\n",
    "print(\"Number of balanced samples is\",len(balanced_data))\n",
    "\n"
   ]
  },
  {
   "cell_type": "markdown",
   "metadata": {},
   "source": [
    "# Task 2: Data Splitting"
   ]
  },
  {
   "cell_type": "code",
   "execution_count": 4,
   "metadata": {},
   "outputs": [],
   "source": [
    "from sklearn.model_selection import train_test_split\n",
    "\n",
    "# Split the dataset randomly into training (70%), validation (15%), and testing (15%)\n",
    "train_data, temp_data = train_test_split(balanced_data, test_size=0.3, random_state=42,stratify=balanced_data['class'])\n",
    "valid_data, test_data = train_test_split(temp_data, test_size=0.5, random_state=42,stratify=temp_data['class'])\n",
    "# Stratify is used to ensure that the class distribution in the original dataset according to labels: g/h\n",
    "\n",
    "# Define your features (x) and target (y) for each set\n",
    "x_train = train_data.drop(columns=['class'])\n",
    "y_train = train_data['class']\n",
    "\n",
    "x_valid = valid_data.drop(columns=['class'])\n",
    "y_valid = valid_data['class']\n",
    "\n",
    "x_test = test_data.drop(columns=['class'])\n",
    "y_test = test_data['class']"
   ]
  },
  {
   "cell_type": "markdown",
   "metadata": {},
   "source": [
    "# Task 3: Applying K-NN Classifier"
   ]
  },
  {
   "cell_type": "code",
   "execution_count": 5,
   "metadata": {},
   "outputs": [
    {
     "data": {
      "text/html": [
       "<style>#sk-container-id-1 {color: black;}#sk-container-id-1 pre{padding: 0;}#sk-container-id-1 div.sk-toggleable {background-color: white;}#sk-container-id-1 label.sk-toggleable__label {cursor: pointer;display: block;width: 100%;margin-bottom: 0;padding: 0.3em;box-sizing: border-box;text-align: center;}#sk-container-id-1 label.sk-toggleable__label-arrow:before {content: \"▸\";float: left;margin-right: 0.25em;color: #696969;}#sk-container-id-1 label.sk-toggleable__label-arrow:hover:before {color: black;}#sk-container-id-1 div.sk-estimator:hover label.sk-toggleable__label-arrow:before {color: black;}#sk-container-id-1 div.sk-toggleable__content {max-height: 0;max-width: 0;overflow: hidden;text-align: left;background-color: #f0f8ff;}#sk-container-id-1 div.sk-toggleable__content pre {margin: 0.2em;color: black;border-radius: 0.25em;background-color: #f0f8ff;}#sk-container-id-1 input.sk-toggleable__control:checked~div.sk-toggleable__content {max-height: 200px;max-width: 100%;overflow: auto;}#sk-container-id-1 input.sk-toggleable__control:checked~label.sk-toggleable__label-arrow:before {content: \"▾\";}#sk-container-id-1 div.sk-estimator input.sk-toggleable__control:checked~label.sk-toggleable__label {background-color: #d4ebff;}#sk-container-id-1 div.sk-label input.sk-toggleable__control:checked~label.sk-toggleable__label {background-color: #d4ebff;}#sk-container-id-1 input.sk-hidden--visually {border: 0;clip: rect(1px 1px 1px 1px);clip: rect(1px, 1px, 1px, 1px);height: 1px;margin: -1px;overflow: hidden;padding: 0;position: absolute;width: 1px;}#sk-container-id-1 div.sk-estimator {font-family: monospace;background-color: #f0f8ff;border: 1px dotted black;border-radius: 0.25em;box-sizing: border-box;margin-bottom: 0.5em;}#sk-container-id-1 div.sk-estimator:hover {background-color: #d4ebff;}#sk-container-id-1 div.sk-parallel-item::after {content: \"\";width: 100%;border-bottom: 1px solid gray;flex-grow: 1;}#sk-container-id-1 div.sk-label:hover label.sk-toggleable__label {background-color: #d4ebff;}#sk-container-id-1 div.sk-serial::before {content: \"\";position: absolute;border-left: 1px solid gray;box-sizing: border-box;top: 0;bottom: 0;left: 50%;z-index: 0;}#sk-container-id-1 div.sk-serial {display: flex;flex-direction: column;align-items: center;background-color: white;padding-right: 0.2em;padding-left: 0.2em;position: relative;}#sk-container-id-1 div.sk-item {position: relative;z-index: 1;}#sk-container-id-1 div.sk-parallel {display: flex;align-items: stretch;justify-content: center;background-color: white;position: relative;}#sk-container-id-1 div.sk-item::before, #sk-container-id-1 div.sk-parallel-item::before {content: \"\";position: absolute;border-left: 1px solid gray;box-sizing: border-box;top: 0;bottom: 0;left: 50%;z-index: -1;}#sk-container-id-1 div.sk-parallel-item {display: flex;flex-direction: column;z-index: 1;position: relative;background-color: white;}#sk-container-id-1 div.sk-parallel-item:first-child::after {align-self: flex-end;width: 50%;}#sk-container-id-1 div.sk-parallel-item:last-child::after {align-self: flex-start;width: 50%;}#sk-container-id-1 div.sk-parallel-item:only-child::after {width: 0;}#sk-container-id-1 div.sk-dashed-wrapped {border: 1px dashed gray;margin: 0 0.4em 0.5em 0.4em;box-sizing: border-box;padding-bottom: 0.4em;background-color: white;}#sk-container-id-1 div.sk-label label {font-family: monospace;font-weight: bold;display: inline-block;line-height: 1.2em;}#sk-container-id-1 div.sk-label-container {text-align: center;}#sk-container-id-1 div.sk-container {/* jupyter's `normalize.less` sets `[hidden] { display: none; }` but bootstrap.min.css set `[hidden] { display: none !important; }` so we also need the `!important` here to be able to override the default hidden behavior on the sphinx rendered scikit-learn.org. See: https://github.com/scikit-learn/scikit-learn/issues/21755 */display: inline-block !important;position: relative;}#sk-container-id-1 div.sk-text-repr-fallback {display: none;}</style><div id=\"sk-container-id-1\" class=\"sk-top-container\"><div class=\"sk-text-repr-fallback\"><pre>KNeighborsClassifier()</pre><b>In a Jupyter environment, please rerun this cell to show the HTML representation or trust the notebook. <br />On GitHub, the HTML representation is unable to render, please try loading this page with nbviewer.org.</b></div><div class=\"sk-container\" hidden><div class=\"sk-item\"><div class=\"sk-estimator sk-toggleable\"><input class=\"sk-toggleable__control sk-hidden--visually\" id=\"sk-estimator-id-1\" type=\"checkbox\" checked><label for=\"sk-estimator-id-1\" class=\"sk-toggleable__label sk-toggleable__label-arrow\">KNeighborsClassifier</label><div class=\"sk-toggleable__content\"><pre>KNeighborsClassifier()</pre></div></div></div></div></div>"
      ],
      "text/plain": [
       "KNeighborsClassifier()"
      ]
     },
     "execution_count": 5,
     "metadata": {},
     "output_type": "execute_result"
    }
   ],
   "source": [
    "from sklearn.neighbors import KNeighborsClassifier\n",
    "\n",
    "# Initialize the K-NN Classifier\n",
    "knn = KNeighborsClassifier()\n",
    "\n",
    "# Train the model on the training data\n",
    "knn.fit(x_train, y_train)"
   ]
  },
  {
   "cell_type": "markdown",
   "metadata": {},
   "source": [
    "# Task 4: Trying Different k Values"
   ]
  },
  {
   "cell_type": "code",
   "execution_count": 17,
   "metadata": {},
   "outputs": [
    {
     "name": "stdout",
     "output_type": "stream",
     "text": [
      "K = 1\n",
      "              precision    recall  f1-score   support\n",
      "\n",
      "           g       0.72      0.77      0.74      1003\n",
      "           h       0.75      0.70      0.73      1003\n",
      "\n",
      "    accuracy                           0.74      2006\n",
      "   macro avg       0.74      0.74      0.74      2006\n",
      "weighted avg       0.74      0.74      0.74      2006\n",
      "\n",
      "confusion matrix: \n",
      " [[772 231]\n",
      " [298 705]]\n",
      "=====================================================\n",
      "K = 3\n",
      "              precision    recall  f1-score   support\n",
      "\n",
      "           g       0.73      0.81      0.77      1003\n",
      "           h       0.78      0.70      0.74      1003\n",
      "\n",
      "    accuracy                           0.75      2006\n",
      "   macro avg       0.76      0.75      0.75      2006\n",
      "weighted avg       0.76      0.75      0.75      2006\n",
      "\n",
      "confusion matrix: \n",
      " [[811 192]\n",
      " [302 701]]\n",
      "=====================================================\n",
      "K = 5\n",
      "              precision    recall  f1-score   support\n",
      "\n",
      "           g       0.73      0.83      0.78      1003\n",
      "           h       0.80      0.70      0.75      1003\n",
      "\n",
      "    accuracy                           0.76      2006\n",
      "   macro avg       0.77      0.76      0.76      2006\n",
      "weighted avg       0.77      0.76      0.76      2006\n",
      "\n",
      "confusion matrix: \n",
      " [[833 170]\n",
      " [302 701]]\n",
      "=====================================================\n",
      "K = 7\n",
      "              precision    recall  f1-score   support\n",
      "\n",
      "           g       0.73      0.85      0.79      1003\n",
      "           h       0.82      0.69      0.75      1003\n",
      "\n",
      "    accuracy                           0.77      2006\n",
      "   macro avg       0.78      0.77      0.77      2006\n",
      "weighted avg       0.78      0.77      0.77      2006\n",
      "\n",
      "confusion matrix: \n",
      " [[850 153]\n",
      " [308 695]]\n",
      "=====================================================\n",
      "K = 9\n",
      "              precision    recall  f1-score   support\n",
      "\n",
      "           g       0.73      0.86      0.79      1003\n",
      "           h       0.83      0.68      0.75      1003\n",
      "\n",
      "    accuracy                           0.77      2006\n",
      "   macro avg       0.78      0.77      0.77      2006\n",
      "weighted avg       0.78      0.77      0.77      2006\n",
      "\n",
      "confusion matrix: \n",
      " [[858 145]\n",
      " [318 685]]\n",
      "=====================================================\n",
      "The best K in this range is 7\n",
      "The best accuracy is 0.7701894317048853\n"
     ]
    }
   ],
   "source": [
    "from sklearn.metrics import classification_report,confusion_matrix,accuracy_score\n",
    "best_k = None\n",
    "best_accuracy = 0\n",
    "\n",
    "for k in range(1, 10 ,2): # k = 1 , 3 , 5 , 7 , 9\n",
    "    knn = KNeighborsClassifier(n_neighbors=k)\n",
    "    knn.fit(x_train, y_train)\n",
    "\n",
    "    y_predictions = knn.predict(x_valid)\n",
    "    accuracy = accuracy_score(y_valid, y_predictions)\n",
    "\n",
    "    # getting best k & accuracy using validation dataset\n",
    "    if accuracy > best_accuracy:\n",
    "        best_k = k\n",
    "        best_accuracy = accuracy\n",
    "\n",
    "    print(\"K =\",k)\n",
    "    print(classification_report(y_valid, y_predictions))\n",
    "    print(\"confusion matrix: \\n\",confusion_matrix(y_valid, y_predictions))\n",
    "    print(\"=====================================================\")\n",
    "print(\"The best K in this range is\",best_k)\n",
    "print(\"The best accuracy is\",best_accuracy)"
   ]
  }
 ],
 "metadata": {
  "kernelspec": {
   "display_name": "Python 3",
   "language": "python",
   "name": "python3"
  },
  "language_info": {
   "codemirror_mode": {
    "name": "ipython",
    "version": 3
   },
   "file_extension": ".py",
   "mimetype": "text/x-python",
   "name": "python",
   "nbconvert_exporter": "python",
   "pygments_lexer": "ipython3",
   "version": "3.12.0"
  }
 },
 "nbformat": 4,
 "nbformat_minor": 2
}
